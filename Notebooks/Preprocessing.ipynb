{
 "cells": [
  {
   "cell_type": "code",
   "execution_count": 61,
   "metadata": {},
   "outputs": [],
   "source": [
    "import pandas as pd \n",
    "import numpy as np\n",
    "import sklearn "
   ]
  },
  {
   "cell_type": "code",
   "execution_count": 62,
   "metadata": {},
   "outputs": [],
   "source": [
    "data=pd.read_csv('../Dataset/combined_data.csv')\n",
    "df=data.copy()"
   ]
  },
  {
   "cell_type": "code",
   "execution_count": 63,
   "metadata": {},
   "outputs": [
    {
     "name": "stdout",
     "output_type": "stream",
     "text": [
      "No of numerical features: 6\n",
      "No of categorical features: 24\n",
      "Target feature: churn_value\n"
     ]
    }
   ],
   "source": [
    "num_features_to_use=['number_of_dependents', 'total_charges', 'total_long_distance_charges', 'total_revenue', 'tenure', 'number_of_referrals']\n",
    "dependent_cat_features=['under_30', 'senior_citizen', 'married', 'city', 'zip_code', 'internet_service', 'online_security', 'online_backup', 'device_protection', 'premium_tech_support', 'streaming_tv', 'streaming_movies', 'streaming_music', 'internet_type', 'contract', 'paperless_billing', 'payment_method', 'internet_service.1', 'multiple_lines', 'unlimited_data', 'offer', 'referred_a_friend', 'customer_status', 'churn_reason']\n",
    "target=['churn_value']\n",
    "print(\"No of numerical features:\",len(num_features_to_use))\n",
    "print(\"No of categorical features:\",len(dependent_cat_features))\n",
    "print(\"Target feature:\",target[0])"
   ]
  },
  {
   "cell_type": "markdown",
   "metadata": {},
   "source": [
    "Out of those categorical features, we will use contract and city as these two features had the highest feature importance followed by churn_reason."
   ]
  },
  {
   "cell_type": "markdown",
   "metadata": {},
   "source": [
    "# OUTLIER REMOVAL"
   ]
  },
  {
   "cell_type": "markdown",
   "metadata": {},
   "source": [
    "total_revenue,total_long_distance_charges has outliers"
   ]
  },
  {
   "cell_type": "code",
   "execution_count": 64,
   "metadata": {},
   "outputs": [],
   "source": [
    "contains_outliers=['total_revenue','total_long_distance_charges']\n",
    "for i in contains_outliers:\n",
    "    max_limit=df[i].mean()+3*df[i].std()\n",
    "    min_limit=df[i].mean()-3*df[i].std()\n",
    "    df=df[(df[i]<=max_limit) & (df[i]>=min_limit)]"
   ]
  },
  {
   "cell_type": "code",
   "execution_count": 65,
   "metadata": {},
   "outputs": [],
   "source": [
    "df=df.reset_index()"
   ]
  },
  {
   "cell_type": "markdown",
   "metadata": {},
   "source": [
    "# ENCODING"
   ]
  },
  {
   "cell_type": "markdown",
   "metadata": {},
   "source": [
    "Can apply One hot encoding directly onto all the columns combined but while applying Label encoder, we will apply it to each feature separetely"
   ]
  },
  {
   "cell_type": "code",
   "execution_count": 66,
   "metadata": {},
   "outputs": [],
   "source": [
    "from sklearn.preprocessing import LabelEncoder\n",
    "import pickle"
   ]
  },
  {
   "cell_type": "code",
   "execution_count": 67,
   "metadata": {},
   "outputs": [],
   "source": [
    "cat_feat=['contract','city']"
   ]
  },
  {
   "cell_type": "code",
   "execution_count": 68,
   "metadata": {},
   "outputs": [],
   "source": [
    "def cols_to_drop():\n",
    "    return [cols for cols in df.columns if cols not in cat_feat+num_features_to_use+target+['customer_status']]\n",
    "df=df.drop(columns=cols_to_drop())"
   ]
  },
  {
   "cell_type": "code",
   "execution_count": 69,
   "metadata": {},
   "outputs": [],
   "source": [
    "label_encoders={}\n",
    "for i in cat_feat:\n",
    "    le=LabelEncoder()\n",
    "    df[i]=le.fit_transform(df[i])\n",
    "    label_encoders[i]=le"
   ]
  },
  {
   "cell_type": "code",
   "execution_count": 70,
   "metadata": {},
   "outputs": [],
   "source": [
    "pickle.dump(label_encoders,open('../Models/label_encoders.sav','wb'))"
   ]
  },
  {
   "cell_type": "markdown",
   "metadata": {},
   "source": [
    "# SCALING"
   ]
  },
  {
   "cell_type": "code",
   "execution_count": 71,
   "metadata": {},
   "outputs": [],
   "source": [
    "from sklearn.preprocessing import StandardScaler \n",
    "scaler=StandardScaler()\n",
    "df[num_features_to_use]=scaler.fit_transform(df[num_features_to_use])\n",
    "\n",
    "pickle.dump(scaler,open('../Models/scaler.sav','wb'))"
   ]
  },
  {
   "cell_type": "markdown",
   "metadata": {},
   "source": [
    "# SPEARMAN RANK CORRELATION\n",
    "\n",
    "Checking once again for numerical features after removal of outliers and scaling"
   ]
  },
  {
   "cell_type": "code",
   "execution_count": 72,
   "metadata": {},
   "outputs": [],
   "source": [
    "df_num_features=pd.concat([df[num_features_to_use],data['churn_value']],axis=1)"
   ]
  },
  {
   "cell_type": "code",
   "execution_count": 73,
   "metadata": {},
   "outputs": [
    {
     "data": {
      "text/html": [
       "<div>\n",
       "<style scoped>\n",
       "    .dataframe tbody tr th:only-of-type {\n",
       "        vertical-align: middle;\n",
       "    }\n",
       "\n",
       "    .dataframe tbody tr th {\n",
       "        vertical-align: top;\n",
       "    }\n",
       "\n",
       "    .dataframe thead th {\n",
       "        text-align: right;\n",
       "    }\n",
       "</style>\n",
       "<table border=\"1\" class=\"dataframe\">\n",
       "  <thead>\n",
       "    <tr style=\"text-align: right;\">\n",
       "      <th></th>\n",
       "      <th>number_of_dependents</th>\n",
       "      <th>total_charges</th>\n",
       "      <th>total_long_distance_charges</th>\n",
       "      <th>total_revenue</th>\n",
       "      <th>tenure</th>\n",
       "      <th>number_of_referrals</th>\n",
       "      <th>churn_value</th>\n",
       "    </tr>\n",
       "  </thead>\n",
       "  <tbody>\n",
       "    <tr>\n",
       "      <th>0</th>\n",
       "      <td>-0.485996</td>\n",
       "      <td>-0.739211</td>\n",
       "      <td>-0.423611</td>\n",
       "      <td>-0.713674</td>\n",
       "      <td>-0.944096</td>\n",
       "      <td>0.020725</td>\n",
       "      <td>0</td>\n",
       "    </tr>\n",
       "    <tr>\n",
       "      <th>1</th>\n",
       "      <td>-0.485996</td>\n",
       "      <td>-0.761916</td>\n",
       "      <td>-0.774423</td>\n",
       "      <td>-0.843327</td>\n",
       "      <td>-0.944096</td>\n",
       "      <td>-0.647645</td>\n",
       "      <td>0</td>\n",
       "    </tr>\n",
       "    <tr>\n",
       "      <th>2</th>\n",
       "      <td>-0.485996</td>\n",
       "      <td>-0.878588</td>\n",
       "      <td>-0.727218</td>\n",
       "      <td>-0.912623</td>\n",
       "      <td>-1.149012</td>\n",
       "      <td>-0.647645</td>\n",
       "      <td>1</td>\n",
       "    </tr>\n",
       "    <tr>\n",
       "      <th>3</th>\n",
       "      <td>-0.485996</td>\n",
       "      <td>-0.451691</td>\n",
       "      <td>-0.448019</td>\n",
       "      <td>-0.491485</td>\n",
       "      <td>-0.780162</td>\n",
       "      <td>-0.313460</td>\n",
       "      <td>1</td>\n",
       "    </tr>\n",
       "    <tr>\n",
       "      <th>4</th>\n",
       "      <td>-0.485996</td>\n",
       "      <td>-0.884587</td>\n",
       "      <td>-0.865501</td>\n",
       "      <td>-0.957406</td>\n",
       "      <td>-1.189996</td>\n",
       "      <td>0.354910</td>\n",
       "      <td>1</td>\n",
       "    </tr>\n",
       "    <tr>\n",
       "      <th>...</th>\n",
       "      <td>...</td>\n",
       "      <td>...</td>\n",
       "      <td>...</td>\n",
       "      <td>...</td>\n",
       "      <td>...</td>\n",
       "      <td>...</td>\n",
       "      <td>...</td>\n",
       "    </tr>\n",
       "    <tr>\n",
       "      <th>7038</th>\n",
       "      <td>NaN</td>\n",
       "      <td>NaN</td>\n",
       "      <td>NaN</td>\n",
       "      <td>NaN</td>\n",
       "      <td>NaN</td>\n",
       "      <td>NaN</td>\n",
       "      <td>0</td>\n",
       "    </tr>\n",
       "    <tr>\n",
       "      <th>7039</th>\n",
       "      <td>NaN</td>\n",
       "      <td>NaN</td>\n",
       "      <td>NaN</td>\n",
       "      <td>NaN</td>\n",
       "      <td>NaN</td>\n",
       "      <td>NaN</td>\n",
       "      <td>1</td>\n",
       "    </tr>\n",
       "    <tr>\n",
       "      <th>7040</th>\n",
       "      <td>NaN</td>\n",
       "      <td>NaN</td>\n",
       "      <td>NaN</td>\n",
       "      <td>NaN</td>\n",
       "      <td>NaN</td>\n",
       "      <td>NaN</td>\n",
       "      <td>0</td>\n",
       "    </tr>\n",
       "    <tr>\n",
       "      <th>7041</th>\n",
       "      <td>NaN</td>\n",
       "      <td>NaN</td>\n",
       "      <td>NaN</td>\n",
       "      <td>NaN</td>\n",
       "      <td>NaN</td>\n",
       "      <td>NaN</td>\n",
       "      <td>0</td>\n",
       "    </tr>\n",
       "    <tr>\n",
       "      <th>7042</th>\n",
       "      <td>NaN</td>\n",
       "      <td>NaN</td>\n",
       "      <td>NaN</td>\n",
       "      <td>NaN</td>\n",
       "      <td>NaN</td>\n",
       "      <td>NaN</td>\n",
       "      <td>0</td>\n",
       "    </tr>\n",
       "  </tbody>\n",
       "</table>\n",
       "<p>7043 rows × 7 columns</p>\n",
       "</div>"
      ],
      "text/plain": [
       "      number_of_dependents  total_charges  total_long_distance_charges  \\\n",
       "0                -0.485996      -0.739211                    -0.423611   \n",
       "1                -0.485996      -0.761916                    -0.774423   \n",
       "2                -0.485996      -0.878588                    -0.727218   \n",
       "3                -0.485996      -0.451691                    -0.448019   \n",
       "4                -0.485996      -0.884587                    -0.865501   \n",
       "...                    ...            ...                          ...   \n",
       "7038                   NaN            NaN                          NaN   \n",
       "7039                   NaN            NaN                          NaN   \n",
       "7040                   NaN            NaN                          NaN   \n",
       "7041                   NaN            NaN                          NaN   \n",
       "7042                   NaN            NaN                          NaN   \n",
       "\n",
       "      total_revenue    tenure  number_of_referrals  churn_value  \n",
       "0         -0.713674 -0.944096             0.020725            0  \n",
       "1         -0.843327 -0.944096            -0.647645            0  \n",
       "2         -0.912623 -1.149012            -0.647645            1  \n",
       "3         -0.491485 -0.780162            -0.313460            1  \n",
       "4         -0.957406 -1.189996             0.354910            1  \n",
       "...             ...       ...                  ...          ...  \n",
       "7038            NaN       NaN                  NaN            0  \n",
       "7039            NaN       NaN                  NaN            1  \n",
       "7040            NaN       NaN                  NaN            0  \n",
       "7041            NaN       NaN                  NaN            0  \n",
       "7042            NaN       NaN                  NaN            0  \n",
       "\n",
       "[7043 rows x 7 columns]"
      ]
     },
     "execution_count": 73,
     "metadata": {},
     "output_type": "execute_result"
    }
   ],
   "source": [
    "df_num_features"
   ]
  },
  {
   "cell_type": "code",
   "execution_count": 74,
   "metadata": {},
   "outputs": [
    {
     "data": {
      "text/plain": [
       "number_of_dependents          -0.001232\n",
       "total_charges                 -0.010621\n",
       "total_long_distance_charges   -0.004711\n",
       "total_revenue                 -0.009594\n",
       "tenure                        -0.018054\n",
       "number_of_referrals           -0.024031\n",
       "churn_value                    1.000000\n",
       "Name: churn_value, dtype: float64"
      ]
     },
     "execution_count": 74,
     "metadata": {},
     "output_type": "execute_result"
    }
   ],
   "source": [
    "correlation=df_num_features.corr()\n",
    "\n",
    "correlation['churn_value']"
   ]
  },
  {
   "cell_type": "code",
   "execution_count": 75,
   "metadata": {},
   "outputs": [],
   "source": [
    "df.to_csv('../Dataset/preprocessed_dataset.csv',index=False)"
   ]
  }
 ],
 "metadata": {
  "kernelspec": {
   "display_name": ".venv",
   "language": "python",
   "name": "python3"
  },
  "language_info": {
   "codemirror_mode": {
    "name": "ipython",
    "version": 3
   },
   "file_extension": ".py",
   "mimetype": "text/x-python",
   "name": "python",
   "nbconvert_exporter": "python",
   "pygments_lexer": "ipython3",
   "version": "3.11.9"
  }
 },
 "nbformat": 4,
 "nbformat_minor": 2
}
