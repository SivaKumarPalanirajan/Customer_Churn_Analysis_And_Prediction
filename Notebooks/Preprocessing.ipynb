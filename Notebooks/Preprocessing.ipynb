{
 "cells": [
  {
   "cell_type": "code",
   "execution_count": 317,
   "metadata": {},
   "outputs": [],
   "source": [
    "import pandas as pd \n",
    "import numpy as np\n",
    "import sklearn "
   ]
  },
  {
   "cell_type": "code",
   "execution_count": 318,
   "metadata": {},
   "outputs": [],
   "source": [
    "data=pd.read_csv('../Dataset/combined_data.csv')\n",
    "df=data.copy()"
   ]
  },
  {
   "cell_type": "code",
   "execution_count": 319,
   "metadata": {},
   "outputs": [
    {
     "name": "stdout",
     "output_type": "stream",
     "text": [
      "No of numerical features: 6\n",
      "No of categorical features: 24\n",
      "Target feature: churn_value\n"
     ]
    }
   ],
   "source": [
    "num_features_to_use=['number_of_dependents', 'total_charges', 'total_long_distance_charges', 'total_revenue', 'tenure', 'number_of_referrals']\n",
    "dependent_cat_features=['under_30', 'senior_citizen', 'married', 'city', 'zip_code', 'internet_service', 'online_security', 'online_backup', 'device_protection', 'premium_tech_support', 'streaming_tv', 'streaming_movies', 'streaming_music', 'internet_type', 'contract', 'paperless_billing', 'payment_method', 'internet_service.1', 'multiple_lines', 'unlimited_data', 'offer', 'referred_a_friend', 'customer_status', 'churn_reason']\n",
    "target=['churn_value']\n",
    "print(\"No of numerical features:\",len(num_features_to_use))\n",
    "print(\"No of categorical features:\",len(dependent_cat_features))\n",
    "print(\"Target feature:\",target[0])"
   ]
  },
  {
   "cell_type": "markdown",
   "metadata": {},
   "source": [
    "Out of those categorical features, we will use contract and city as these two features had the highest feature importance followed by churn_reason."
   ]
  },
  {
   "cell_type": "code",
   "execution_count": 320,
   "metadata": {},
   "outputs": [],
   "source": [
    "cat_feat=['contract','city']\n",
    "def cols_to_drop():\n",
    "    return [cols for cols in df.columns if cols not in cat_feat+num_features_to_use+target+['customer_status']]\n",
    "df=df.drop(columns=cols_to_drop())"
   ]
  },
  {
   "cell_type": "markdown",
   "metadata": {},
   "source": [
    "# OUTLIER REMOVAL"
   ]
  },
  {
   "cell_type": "markdown",
   "metadata": {},
   "source": [
    "total_revenue,total_long_distance_charges has outliers"
   ]
  },
  {
   "cell_type": "code",
   "execution_count": 321,
   "metadata": {},
   "outputs": [],
   "source": [
    "def remove_outliers(df):\n",
    "    contains_outliers=['total_revenue','total_long_distance_charges']\n",
    "    for i in contains_outliers:\n",
    "        max_limit=df[i].mean()+3*df[i].std()\n",
    "        min_limit=df[i].mean()-3*df[i].std()\n",
    "        df=df[(df[i]<=max_limit) & (df[i]>=min_limit)]\n",
    "        return df\n",
    "\n",
    "df=remove_outliers(df)\n"
   ]
  },
  {
   "cell_type": "code",
   "execution_count": 322,
   "metadata": {},
   "outputs": [],
   "source": [
    "df.reset_index(drop=True,inplace=True)"
   ]
  },
  {
   "cell_type": "markdown",
   "metadata": {},
   "source": [
    "# BALANCING THE DATASET "
   ]
  },
  {
   "cell_type": "code",
   "execution_count": 323,
   "metadata": {},
   "outputs": [],
   "source": [
    "x=df.iloc[:,0:8]\n",
    "y=df['customer_status']"
   ]
  },
  {
   "cell_type": "code",
   "execution_count": 324,
   "metadata": {},
   "outputs": [
    {
     "name": "stdout",
     "output_type": "stream",
     "text": [
      "No of entries with class as Churned before over sampling: (1869, 10)\n",
      "No of entries with class as Not Churned before over sampling: (5169, 10)\n"
     ]
    }
   ],
   "source": [
    "print(\"No of entries with class as Churned before over sampling:\",df[df['customer_status']=='Churned'].shape)\n",
    "print(\"No of entries with class as Not Churned before over sampling:\",df[(df['customer_status']=='Joined') | (df['customer_status']=='Stayed')].shape)"
   ]
  },
  {
   "cell_type": "code",
   "execution_count": 326,
   "metadata": {},
   "outputs": [],
   "source": [
    "from imblearn.over_sampling import SMOTENC\n",
    "sampler=SMOTENC(sampling_strategy={'Churned':5169,\"Stayed\":5169,\"Joined\":5169},categorical_features=['city','contract'])\n",
    "x_resampled,y_resampled=sampler.fit_resample(x,y)"
   ]
  },
  {
   "cell_type": "code",
   "execution_count": 327,
   "metadata": {},
   "outputs": [],
   "source": [
    "df=pd.concat([x_resampled,y_resampled],axis=1)"
   ]
  },
  {
   "cell_type": "code",
   "execution_count": 329,
   "metadata": {},
   "outputs": [
    {
     "name": "stdout",
     "output_type": "stream",
     "text": [
      "No of entries with class as Churned after over sampling: (5169, 9)\n",
      "No of entries with class as Not Churned after over sampling: (10338, 9)\n"
     ]
    }
   ],
   "source": [
    "print(\"No of entries with class as Churned after over sampling:\",df[df['customer_status']=='Churned'].shape)\n",
    "print(\"No of entries with class as Not Churned after over sampling:\",df[(df['customer_status']=='Joined') | (df['customer_status']=='Stayed')].shape)"
   ]
  },
  {
   "cell_type": "markdown",
   "metadata": {},
   "source": [
    "As 5169 samples for Churned,5169 samples for Joined and 5169 samples for Stayed."
   ]
  },
  {
   "cell_type": "code",
   "execution_count": 330,
   "metadata": {},
   "outputs": [],
   "source": [
    "from sklearn.model_selection import train_test_split\n",
    "train,test=train_test_split(df,test_size=0.2)"
   ]
  },
  {
   "cell_type": "markdown",
   "metadata": {},
   "source": [
    "# ENCODING"
   ]
  },
  {
   "cell_type": "markdown",
   "metadata": {},
   "source": [
    "Can apply One hot encoding directly onto all the columns combined but while applying Label encoder, we will apply it to each feature separetely"
   ]
  },
  {
   "cell_type": "code",
   "execution_count": 331,
   "metadata": {},
   "outputs": [],
   "source": [
    "from sklearn.preprocessing import LabelEncoder\n",
    "import pickle"
   ]
  },
  {
   "cell_type": "code",
   "execution_count": 332,
   "metadata": {},
   "outputs": [],
   "source": [
    "label_encoders={}\n",
    "for i in cat_feat:\n",
    "    if i=='city':\n",
    "        train[i]=train[i].str.lower()\n",
    "    le=LabelEncoder()\n",
    "    train[i]=le.fit_transform(train[i])\n",
    "    label_encoders[i]=le"
   ]
  },
  {
   "cell_type": "code",
   "execution_count": 333,
   "metadata": {},
   "outputs": [],
   "source": [
    "for i in cat_feat:\n",
    "    if i=='city':\n",
    "        test[i]=test[i].str.lower()\n",
    "    test[i]=label_encoders[i].transform(test[i])"
   ]
  },
  {
   "cell_type": "code",
   "execution_count": 334,
   "metadata": {},
   "outputs": [],
   "source": [
    "pickle.dump(label_encoders,open('../Models/label_encoders.sav','wb'))"
   ]
  },
  {
   "cell_type": "markdown",
   "metadata": {},
   "source": [
    "# SCALING"
   ]
  },
  {
   "cell_type": "code",
   "execution_count": 335,
   "metadata": {},
   "outputs": [
    {
     "data": {
      "text/html": [
       "<div>\n",
       "<style scoped>\n",
       "    .dataframe tbody tr th:only-of-type {\n",
       "        vertical-align: middle;\n",
       "    }\n",
       "\n",
       "    .dataframe tbody tr th {\n",
       "        vertical-align: top;\n",
       "    }\n",
       "\n",
       "    .dataframe thead th {\n",
       "        text-align: right;\n",
       "    }\n",
       "</style>\n",
       "<table border=\"1\" class=\"dataframe\">\n",
       "  <thead>\n",
       "    <tr style=\"text-align: right;\">\n",
       "      <th></th>\n",
       "      <th>number_of_dependents</th>\n",
       "      <th>city</th>\n",
       "      <th>contract</th>\n",
       "      <th>total_charges</th>\n",
       "      <th>total_long_distance_charges</th>\n",
       "      <th>total_revenue</th>\n",
       "      <th>tenure</th>\n",
       "      <th>number_of_referrals</th>\n",
       "      <th>customer_status</th>\n",
       "    </tr>\n",
       "  </thead>\n",
       "  <tbody>\n",
       "    <tr>\n",
       "      <th>11727</th>\n",
       "      <td>0</td>\n",
       "      <td>210</td>\n",
       "      <td>0</td>\n",
       "      <td>46.622001</td>\n",
       "      <td>97.009698</td>\n",
       "      <td>143.631699</td>\n",
       "      <td>2</td>\n",
       "      <td>1</td>\n",
       "      <td>Joined</td>\n",
       "    </tr>\n",
       "    <tr>\n",
       "      <th>13309</th>\n",
       "      <td>0</td>\n",
       "      <td>1058</td>\n",
       "      <td>0</td>\n",
       "      <td>71.146913</td>\n",
       "      <td>36.627003</td>\n",
       "      <td>107.773916</td>\n",
       "      <td>1</td>\n",
       "      <td>0</td>\n",
       "      <td>Joined</td>\n",
       "    </tr>\n",
       "    <tr>\n",
       "      <th>6640</th>\n",
       "      <td>0</td>\n",
       "      <td>12</td>\n",
       "      <td>1</td>\n",
       "      <td>943.100000</td>\n",
       "      <td>1405.000000</td>\n",
       "      <td>2348.100000</td>\n",
       "      <td>50</td>\n",
       "      <td>1</td>\n",
       "      <td>Stayed</td>\n",
       "    </tr>\n",
       "    <tr>\n",
       "      <th>10152</th>\n",
       "      <td>0</td>\n",
       "      <td>1015</td>\n",
       "      <td>0</td>\n",
       "      <td>69.456620</td>\n",
       "      <td>45.904070</td>\n",
       "      <td>115.360690</td>\n",
       "      <td>1</td>\n",
       "      <td>0</td>\n",
       "      <td>Churned</td>\n",
       "    </tr>\n",
       "    <tr>\n",
       "      <th>6653</th>\n",
       "      <td>0</td>\n",
       "      <td>52</td>\n",
       "      <td>1</td>\n",
       "      <td>1654.450000</td>\n",
       "      <td>925.400000</td>\n",
       "      <td>2579.850000</td>\n",
       "      <td>28</td>\n",
       "      <td>0</td>\n",
       "      <td>Stayed</td>\n",
       "    </tr>\n",
       "    <tr>\n",
       "      <th>...</th>\n",
       "      <td>...</td>\n",
       "      <td>...</td>\n",
       "      <td>...</td>\n",
       "      <td>...</td>\n",
       "      <td>...</td>\n",
       "      <td>...</td>\n",
       "      <td>...</td>\n",
       "      <td>...</td>\n",
       "      <td>...</td>\n",
       "    </tr>\n",
       "    <tr>\n",
       "      <th>4226</th>\n",
       "      <td>2</td>\n",
       "      <td>470</td>\n",
       "      <td>2</td>\n",
       "      <td>1160.450000</td>\n",
       "      <td>736.960000</td>\n",
       "      <td>1897.410000</td>\n",
       "      <td>47</td>\n",
       "      <td>3</td>\n",
       "      <td>Stayed</td>\n",
       "    </tr>\n",
       "    <tr>\n",
       "      <th>9276</th>\n",
       "      <td>0</td>\n",
       "      <td>584</td>\n",
       "      <td>0</td>\n",
       "      <td>85.581907</td>\n",
       "      <td>3.747934</td>\n",
       "      <td>93.756331</td>\n",
       "      <td>1</td>\n",
       "      <td>0</td>\n",
       "      <td>Churned</td>\n",
       "    </tr>\n",
       "    <tr>\n",
       "      <th>10684</th>\n",
       "      <td>0</td>\n",
       "      <td>679</td>\n",
       "      <td>0</td>\n",
       "      <td>20.213852</td>\n",
       "      <td>7.547547</td>\n",
       "      <td>27.761398</td>\n",
       "      <td>1</td>\n",
       "      <td>0</td>\n",
       "      <td>Joined</td>\n",
       "    </tr>\n",
       "    <tr>\n",
       "      <th>5186</th>\n",
       "      <td>2</td>\n",
       "      <td>292</td>\n",
       "      <td>0</td>\n",
       "      <td>1936.850000</td>\n",
       "      <td>626.520000</td>\n",
       "      <td>2563.370000</td>\n",
       "      <td>23</td>\n",
       "      <td>5</td>\n",
       "      <td>Stayed</td>\n",
       "    </tr>\n",
       "    <tr>\n",
       "      <th>6010</th>\n",
       "      <td>0</td>\n",
       "      <td>1010</td>\n",
       "      <td>0</td>\n",
       "      <td>1424.500000</td>\n",
       "      <td>34.010000</td>\n",
       "      <td>1588.510000</td>\n",
       "      <td>19</td>\n",
       "      <td>0</td>\n",
       "      <td>Churned</td>\n",
       "    </tr>\n",
       "  </tbody>\n",
       "</table>\n",
       "<p>12405 rows × 9 columns</p>\n",
       "</div>"
      ],
      "text/plain": [
       "       number_of_dependents  city  contract  total_charges  \\\n",
       "11727                     0   210         0      46.622001   \n",
       "13309                     0  1058         0      71.146913   \n",
       "6640                      0    12         1     943.100000   \n",
       "10152                     0  1015         0      69.456620   \n",
       "6653                      0    52         1    1654.450000   \n",
       "...                     ...   ...       ...            ...   \n",
       "4226                      2   470         2    1160.450000   \n",
       "9276                      0   584         0      85.581907   \n",
       "10684                     0   679         0      20.213852   \n",
       "5186                      2   292         0    1936.850000   \n",
       "6010                      0  1010         0    1424.500000   \n",
       "\n",
       "       total_long_distance_charges  total_revenue  tenure  \\\n",
       "11727                    97.009698     143.631699       2   \n",
       "13309                    36.627003     107.773916       1   \n",
       "6640                   1405.000000    2348.100000      50   \n",
       "10152                    45.904070     115.360690       1   \n",
       "6653                    925.400000    2579.850000      28   \n",
       "...                            ...            ...     ...   \n",
       "4226                    736.960000    1897.410000      47   \n",
       "9276                      3.747934      93.756331       1   \n",
       "10684                     7.547547      27.761398       1   \n",
       "5186                    626.520000    2563.370000      23   \n",
       "6010                     34.010000    1588.510000      19   \n",
       "\n",
       "       number_of_referrals customer_status  \n",
       "11727                    1          Joined  \n",
       "13309                    0          Joined  \n",
       "6640                     1          Stayed  \n",
       "10152                    0         Churned  \n",
       "6653                     0          Stayed  \n",
       "...                    ...             ...  \n",
       "4226                     3          Stayed  \n",
       "9276                     0         Churned  \n",
       "10684                    0          Joined  \n",
       "5186                     5          Stayed  \n",
       "6010                     0         Churned  \n",
       "\n",
       "[12405 rows x 9 columns]"
      ]
     },
     "execution_count": 335,
     "metadata": {},
     "output_type": "execute_result"
    }
   ],
   "source": [
    "train"
   ]
  },
  {
   "cell_type": "code",
   "execution_count": 336,
   "metadata": {},
   "outputs": [],
   "source": [
    "from sklearn.preprocessing import StandardScaler \n",
    "scaler=StandardScaler()\n",
    "train[num_features_to_use]=scaler.fit_transform(train[num_features_to_use])\n",
    "test[num_features_to_use]=scaler.transform(test[num_features_to_use])\n",
    "\n",
    "pickle.dump(scaler,open('../Models/scaler.sav','wb'))"
   ]
  },
  {
   "cell_type": "markdown",
   "metadata": {},
   "source": [
    "# SPEARMAN RANK CORRELATION\n",
    "\n",
    "Checking once again for numerical features after removal of outliers and scaling"
   ]
  },
  {
   "cell_type": "code",
   "execution_count": 337,
   "metadata": {},
   "outputs": [],
   "source": [
    "df_num_features=pd.concat([df[num_features_to_use],data['churn_value']],axis=1)"
   ]
  },
  {
   "cell_type": "code",
   "execution_count": 338,
   "metadata": {},
   "outputs": [
    {
     "data": {
      "text/html": [
       "<div>\n",
       "<style scoped>\n",
       "    .dataframe tbody tr th:only-of-type {\n",
       "        vertical-align: middle;\n",
       "    }\n",
       "\n",
       "    .dataframe tbody tr th {\n",
       "        vertical-align: top;\n",
       "    }\n",
       "\n",
       "    .dataframe thead th {\n",
       "        text-align: right;\n",
       "    }\n",
       "</style>\n",
       "<table border=\"1\" class=\"dataframe\">\n",
       "  <thead>\n",
       "    <tr style=\"text-align: right;\">\n",
       "      <th></th>\n",
       "      <th>number_of_dependents</th>\n",
       "      <th>total_charges</th>\n",
       "      <th>total_long_distance_charges</th>\n",
       "      <th>total_revenue</th>\n",
       "      <th>tenure</th>\n",
       "      <th>number_of_referrals</th>\n",
       "      <th>churn_value</th>\n",
       "    </tr>\n",
       "  </thead>\n",
       "  <tbody>\n",
       "    <tr>\n",
       "      <th>0</th>\n",
       "      <td>0</td>\n",
       "      <td>593.300000</td>\n",
       "      <td>381.510000</td>\n",
       "      <td>974.810000</td>\n",
       "      <td>9</td>\n",
       "      <td>2</td>\n",
       "      <td>0.0</td>\n",
       "    </tr>\n",
       "    <tr>\n",
       "      <th>1</th>\n",
       "      <td>0</td>\n",
       "      <td>542.400000</td>\n",
       "      <td>96.210000</td>\n",
       "      <td>610.280000</td>\n",
       "      <td>9</td>\n",
       "      <td>0</td>\n",
       "      <td>0.0</td>\n",
       "    </tr>\n",
       "    <tr>\n",
       "      <th>2</th>\n",
       "      <td>0</td>\n",
       "      <td>280.850000</td>\n",
       "      <td>134.600000</td>\n",
       "      <td>415.450000</td>\n",
       "      <td>4</td>\n",
       "      <td>0</td>\n",
       "      <td>1.0</td>\n",
       "    </tr>\n",
       "    <tr>\n",
       "      <th>3</th>\n",
       "      <td>0</td>\n",
       "      <td>1237.850000</td>\n",
       "      <td>361.660000</td>\n",
       "      <td>1599.510000</td>\n",
       "      <td>13</td>\n",
       "      <td>1</td>\n",
       "      <td>1.0</td>\n",
       "    </tr>\n",
       "    <tr>\n",
       "      <th>4</th>\n",
       "      <td>0</td>\n",
       "      <td>267.400000</td>\n",
       "      <td>22.140000</td>\n",
       "      <td>289.540000</td>\n",
       "      <td>3</td>\n",
       "      <td>3</td>\n",
       "      <td>1.0</td>\n",
       "    </tr>\n",
       "    <tr>\n",
       "      <th>...</th>\n",
       "      <td>...</td>\n",
       "      <td>...</td>\n",
       "      <td>...</td>\n",
       "      <td>...</td>\n",
       "      <td>...</td>\n",
       "      <td>...</td>\n",
       "      <td>...</td>\n",
       "    </tr>\n",
       "    <tr>\n",
       "      <th>15502</th>\n",
       "      <td>0</td>\n",
       "      <td>238.509211</td>\n",
       "      <td>206.700722</td>\n",
       "      <td>445.209933</td>\n",
       "      <td>12</td>\n",
       "      <td>0</td>\n",
       "      <td>NaN</td>\n",
       "    </tr>\n",
       "    <tr>\n",
       "      <th>15503</th>\n",
       "      <td>2</td>\n",
       "      <td>5264.429989</td>\n",
       "      <td>711.509843</td>\n",
       "      <td>5975.939832</td>\n",
       "      <td>59</td>\n",
       "      <td>1</td>\n",
       "      <td>NaN</td>\n",
       "    </tr>\n",
       "    <tr>\n",
       "      <th>15504</th>\n",
       "      <td>0</td>\n",
       "      <td>2322.794723</td>\n",
       "      <td>651.697943</td>\n",
       "      <td>2965.185013</td>\n",
       "      <td>32</td>\n",
       "      <td>0</td>\n",
       "      <td>NaN</td>\n",
       "    </tr>\n",
       "    <tr>\n",
       "      <th>15505</th>\n",
       "      <td>0</td>\n",
       "      <td>1463.235769</td>\n",
       "      <td>438.901702</td>\n",
       "      <td>1981.331125</td>\n",
       "      <td>18</td>\n",
       "      <td>0</td>\n",
       "      <td>NaN</td>\n",
       "    </tr>\n",
       "    <tr>\n",
       "      <th>15506</th>\n",
       "      <td>0</td>\n",
       "      <td>2098.097451</td>\n",
       "      <td>428.776368</td>\n",
       "      <td>2526.873819</td>\n",
       "      <td>34</td>\n",
       "      <td>1</td>\n",
       "      <td>NaN</td>\n",
       "    </tr>\n",
       "  </tbody>\n",
       "</table>\n",
       "<p>15507 rows × 7 columns</p>\n",
       "</div>"
      ],
      "text/plain": [
       "       number_of_dependents  total_charges  total_long_distance_charges  \\\n",
       "0                         0     593.300000                   381.510000   \n",
       "1                         0     542.400000                    96.210000   \n",
       "2                         0     280.850000                   134.600000   \n",
       "3                         0    1237.850000                   361.660000   \n",
       "4                         0     267.400000                    22.140000   \n",
       "...                     ...            ...                          ...   \n",
       "15502                     0     238.509211                   206.700722   \n",
       "15503                     2    5264.429989                   711.509843   \n",
       "15504                     0    2322.794723                   651.697943   \n",
       "15505                     0    1463.235769                   438.901702   \n",
       "15506                     0    2098.097451                   428.776368   \n",
       "\n",
       "       total_revenue  tenure  number_of_referrals  churn_value  \n",
       "0         974.810000       9                    2          0.0  \n",
       "1         610.280000       9                    0          0.0  \n",
       "2         415.450000       4                    0          1.0  \n",
       "3        1599.510000      13                    1          1.0  \n",
       "4         289.540000       3                    3          1.0  \n",
       "...              ...     ...                  ...          ...  \n",
       "15502     445.209933      12                    0          NaN  \n",
       "15503    5975.939832      59                    1          NaN  \n",
       "15504    2965.185013      32                    0          NaN  \n",
       "15505    1981.331125      18                    0          NaN  \n",
       "15506    2526.873819      34                    1          NaN  \n",
       "\n",
       "[15507 rows x 7 columns]"
      ]
     },
     "execution_count": 338,
     "metadata": {},
     "output_type": "execute_result"
    }
   ],
   "source": [
    "df_num_features"
   ]
  },
  {
   "cell_type": "code",
   "execution_count": 339,
   "metadata": {},
   "outputs": [
    {
     "data": {
      "text/plain": [
       "number_of_dependents           0.020656\n",
       "total_charges                  0.008246\n",
       "total_long_distance_charges    0.012059\n",
       "total_revenue                  0.010030\n",
       "tenure                        -0.002873\n",
       "number_of_referrals           -0.013085\n",
       "churn_value                    1.000000\n",
       "Name: churn_value, dtype: float64"
      ]
     },
     "execution_count": 339,
     "metadata": {},
     "output_type": "execute_result"
    }
   ],
   "source": [
    "correlation=df_num_features.corr()\n",
    "\n",
    "correlation['churn_value']"
   ]
  },
  {
   "cell_type": "code",
   "execution_count": 340,
   "metadata": {},
   "outputs": [],
   "source": [
    "train.to_csv('../Dataset/preprocessed_train_dataset.csv',index=False)\n",
    "test.to_csv('../Dataset/preprocessed_test_dataset.csv',index=False)"
   ]
  }
 ],
 "metadata": {
  "kernelspec": {
   "display_name": ".venv",
   "language": "python",
   "name": "python3"
  },
  "language_info": {
   "codemirror_mode": {
    "name": "ipython",
    "version": 3
   },
   "file_extension": ".py",
   "mimetype": "text/x-python",
   "name": "python",
   "nbconvert_exporter": "python",
   "pygments_lexer": "ipython3",
   "version": "3.11.9"
  }
 },
 "nbformat": 4,
 "nbformat_minor": 2
}
