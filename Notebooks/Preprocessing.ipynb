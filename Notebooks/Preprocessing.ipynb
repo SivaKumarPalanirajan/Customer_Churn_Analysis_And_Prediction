{
 "cells": [
  {
   "cell_type": "code",
   "execution_count": 61,
   "metadata": {},
   "outputs": [],
   "source": [
    "import pandas as pd \n",
    "import numpy as np\n",
    "import sklearn "
   ]
  },
  {
   "cell_type": "code",
   "execution_count": 62,
   "metadata": {},
   "outputs": [],
   "source": [
    "data=pd.read_csv('../Dataset/combined_data.csv')\n",
    "df=data.copy()"
   ]
  },
  {
   "cell_type": "code",
   "execution_count": 63,
   "metadata": {},
   "outputs": [
    {
     "name": "stdout",
     "output_type": "stream",
     "text": [
      "No of numerical features: 6\n",
      "No of categorical features: 24\n",
      "Target feature: churn_value\n"
     ]
    }
   ],
   "source": [
    "num_features_to_use=['number_of_dependents', 'total_charges', 'total_long_distance_charges', 'total_revenue', 'tenure', 'number_of_referrals']\n",
    "dependent_cat_features=['under_30', 'senior_citizen', 'married', 'city', 'zip_code', 'internet_service', 'online_security', 'online_backup', 'device_protection', 'premium_tech_support', 'streaming_tv', 'streaming_movies', 'streaming_music', 'internet_type', 'contract', 'paperless_billing', 'payment_method', 'internet_service.1', 'multiple_lines', 'unlimited_data', 'offer', 'referred_a_friend', 'customer_status', 'churn_reason']\n",
    "target=['churn_value']\n",
    "print(\"No of numerical features:\",len(num_features_to_use))\n",
    "print(\"No of categorical features:\",len(dependent_cat_features))\n",
    "print(\"Target feature:\",target[0])"
   ]
  },
  {
   "cell_type": "markdown",
   "metadata": {},
   "source": [
    "Out of those categorical features, we will use contract and city as these two features had the highest feature importance followed by churn_reason."
   ]
  },
  {
   "cell_type": "markdown",
   "metadata": {},
   "source": [
    "# OUTLIER REMOVAL"
   ]
  },
  {
   "cell_type": "markdown",
   "metadata": {},
   "source": [
    "total_revenue,total_long_distance_charges has outliers"
   ]
  },
  {
   "cell_type": "code",
   "execution_count": 64,
   "metadata": {},
   "outputs": [],
   "source": [
    "contains_outliers=['total_revenue','total_long_distance_charges']\n",
    "for i in contains_outliers:\n",
    "    max_limit=df[i].mean()+3*df[i].std()\n",
    "    min_limit=df[i].mean()-3*df[i].std()\n",
    "    df=df[(df[i]<=max_limit) & (df[i]>=min_limit)]"
   ]
  },
  {
   "cell_type": "code",
   "execution_count": 65,
   "metadata": {},
   "outputs": [],
   "source": [
    "df=df.reset_index()"
   ]
  },
  {
   "cell_type": "markdown",
   "metadata": {},
   "source": [
    "# BALANCING THE DATASET "
   ]
  },
  {
   "cell_type": "code",
   "execution_count": 68,
   "metadata": {},
   "outputs": [],
   "source": [
    "cat_feat=['contract','city']\n",
    "def cols_to_drop():\n",
    "    return [cols for cols in df.columns if cols not in cat_feat+num_features_to_use+target+['customer_status']]\n",
    "df=df.drop(columns=cols_to_drop())"
   ]
  },
  {
   "cell_type": "code",
   "execution_count": 69,
   "metadata": {},
   "outputs": [],
   "source": [
    "x=df.iloc[:,0:8]\n",
    "y=df['customer_status']"
   ]
  },
  {
   "cell_type": "code",
   "execution_count": 72,
   "metadata": {},
   "outputs": [],
   "source": [
    "from imblearn.over_sampling import SMOTEN\n",
    "sampler=SMOTEN(sampling_strategy={'Churned':5174,\"Stayed\":5174,\"Joined\":5174})\n",
    "x_resampled,y_resampled=sampler.fit_resample(x,y)"
   ]
  },
  {
   "cell_type": "code",
   "execution_count": 73,
   "metadata": {},
   "outputs": [],
   "source": [
    "df=pd.concat([x_resampled,y_resampled],axis=1)"
   ]
  },
  {
   "cell_type": "code",
   "execution_count": 75,
   "metadata": {},
   "outputs": [
    {
     "name": "stdout",
     "output_type": "stream",
     "text": [
      "No of entries with class as Churned: (5174, 9)\n",
      "No of entries with class as Not Churned: (10348, 9)\n"
     ]
    }
   ],
   "source": [
    "print(\"No of entries with class as Churned:\",df[df['customer_status']=='Churned'].shape)\n",
    "print(\"No of entries with class as Not Churned:\",df[(df['customer_status']=='Joined') | (df['customer_status']=='Stayed')].shape)"
   ]
  },
  {
   "cell_type": "markdown",
   "metadata": {},
   "source": [
    "As 5174 samples for Churned,5174 samples for Joined and 5174 samples for Stayed."
   ]
  },
  {
   "cell_type": "markdown",
   "metadata": {},
   "source": [
    "# ENCODING"
   ]
  },
  {
   "cell_type": "markdown",
   "metadata": {},
   "source": [
    "Can apply One hot encoding directly onto all the columns combined but while applying Label encoder, we will apply it to each feature separetely"
   ]
  },
  {
   "cell_type": "code",
   "execution_count": 76,
   "metadata": {},
   "outputs": [],
   "source": [
    "from sklearn.preprocessing import LabelEncoder\n",
    "import pickle"
   ]
  },
  {
   "cell_type": "code",
   "execution_count": 77,
   "metadata": {},
   "outputs": [],
   "source": [
    "label_encoders={}\n",
    "for i in cat_feat:\n",
    "    if i=='city':\n",
    "        df[i]=df[i].str.lower()\n",
    "    le=LabelEncoder()\n",
    "    df[i]=le.fit_transform(df[i])\n",
    "    label_encoders[i]=le"
   ]
  },
  {
   "cell_type": "code",
   "execution_count": 78,
   "metadata": {},
   "outputs": [],
   "source": [
    "pickle.dump(label_encoders,open('../Models/label_encoders.sav','wb'))"
   ]
  },
  {
   "cell_type": "markdown",
   "metadata": {},
   "source": [
    "# SCALING"
   ]
  },
  {
   "cell_type": "code",
   "execution_count": 79,
   "metadata": {},
   "outputs": [],
   "source": [
    "from sklearn.preprocessing import StandardScaler \n",
    "scaler=StandardScaler()\n",
    "df[num_features_to_use]=scaler.fit_transform(df[num_features_to_use])\n",
    "\n",
    "pickle.dump(scaler,open('../Models/scaler.sav','wb'))"
   ]
  },
  {
   "cell_type": "markdown",
   "metadata": {},
   "source": [
    "# SPEARMAN RANK CORRELATION\n",
    "\n",
    "Checking once again for numerical features after removal of outliers and scaling"
   ]
  },
  {
   "cell_type": "code",
   "execution_count": 80,
   "metadata": {},
   "outputs": [],
   "source": [
    "df_num_features=pd.concat([df[num_features_to_use],data['churn_value']],axis=1)"
   ]
  },
  {
   "cell_type": "code",
   "execution_count": 81,
   "metadata": {},
   "outputs": [
    {
     "data": {
      "text/html": [
       "<div>\n",
       "<style scoped>\n",
       "    .dataframe tbody tr th:only-of-type {\n",
       "        vertical-align: middle;\n",
       "    }\n",
       "\n",
       "    .dataframe tbody tr th {\n",
       "        vertical-align: top;\n",
       "    }\n",
       "\n",
       "    .dataframe thead th {\n",
       "        text-align: right;\n",
       "    }\n",
       "</style>\n",
       "<table border=\"1\" class=\"dataframe\">\n",
       "  <thead>\n",
       "    <tr style=\"text-align: right;\">\n",
       "      <th></th>\n",
       "      <th>number_of_dependents</th>\n",
       "      <th>total_charges</th>\n",
       "      <th>total_long_distance_charges</th>\n",
       "      <th>total_revenue</th>\n",
       "      <th>tenure</th>\n",
       "      <th>number_of_referrals</th>\n",
       "      <th>churn_value</th>\n",
       "    </tr>\n",
       "  </thead>\n",
       "  <tbody>\n",
       "    <tr>\n",
       "      <th>0</th>\n",
       "      <td>-0.382357</td>\n",
       "      <td>-0.343653</td>\n",
       "      <td>0.028284</td>\n",
       "      <td>-0.279578</td>\n",
       "      <td>-0.441044</td>\n",
       "      <td>0.336161</td>\n",
       "      <td>0.0</td>\n",
       "    </tr>\n",
       "    <tr>\n",
       "      <th>1</th>\n",
       "      <td>-0.382357</td>\n",
       "      <td>-0.370821</td>\n",
       "      <td>-0.412370</td>\n",
       "      <td>-0.432433</td>\n",
       "      <td>-0.441044</td>\n",
       "      <td>-0.476151</td>\n",
       "      <td>0.0</td>\n",
       "    </tr>\n",
       "    <tr>\n",
       "      <th>2</th>\n",
       "      <td>-0.382357</td>\n",
       "      <td>-0.510427</td>\n",
       "      <td>-0.353076</td>\n",
       "      <td>-0.514129</td>\n",
       "      <td>-0.659444</td>\n",
       "      <td>-0.476151</td>\n",
       "      <td>1.0</td>\n",
       "    </tr>\n",
       "    <tr>\n",
       "      <th>3</th>\n",
       "      <td>-0.382357</td>\n",
       "      <td>0.000385</td>\n",
       "      <td>-0.002374</td>\n",
       "      <td>-0.017630</td>\n",
       "      <td>-0.266324</td>\n",
       "      <td>-0.069995</td>\n",
       "      <td>1.0</td>\n",
       "    </tr>\n",
       "    <tr>\n",
       "      <th>4</th>\n",
       "      <td>-0.382357</td>\n",
       "      <td>-0.517606</td>\n",
       "      <td>-0.526774</td>\n",
       "      <td>-0.566925</td>\n",
       "      <td>-0.703124</td>\n",
       "      <td>0.742317</td>\n",
       "      <td>1.0</td>\n",
       "    </tr>\n",
       "    <tr>\n",
       "      <th>...</th>\n",
       "      <td>...</td>\n",
       "      <td>...</td>\n",
       "      <td>...</td>\n",
       "      <td>...</td>\n",
       "      <td>...</td>\n",
       "      <td>...</td>\n",
       "      <td>...</td>\n",
       "    </tr>\n",
       "    <tr>\n",
       "      <th>15517</th>\n",
       "      <td>-0.382357</td>\n",
       "      <td>-0.058916</td>\n",
       "      <td>2.043913</td>\n",
       "      <td>0.557400</td>\n",
       "      <td>1.087757</td>\n",
       "      <td>-0.476151</td>\n",
       "      <td>NaN</td>\n",
       "    </tr>\n",
       "    <tr>\n",
       "      <th>15518</th>\n",
       "      <td>-0.382357</td>\n",
       "      <td>-0.536448</td>\n",
       "      <td>-0.346928</td>\n",
       "      <td>-0.338623</td>\n",
       "      <td>-0.266324</td>\n",
       "      <td>-0.476151</td>\n",
       "      <td>NaN</td>\n",
       "    </tr>\n",
       "    <tr>\n",
       "      <th>15519</th>\n",
       "      <td>3.419656</td>\n",
       "      <td>0.075433</td>\n",
       "      <td>0.678208</td>\n",
       "      <td>0.226096</td>\n",
       "      <td>2.267119</td>\n",
       "      <td>3.179253</td>\n",
       "      <td>NaN</td>\n",
       "    </tr>\n",
       "    <tr>\n",
       "      <th>15520</th>\n",
       "      <td>-0.382357</td>\n",
       "      <td>-0.280748</td>\n",
       "      <td>-0.324239</td>\n",
       "      <td>-0.231944</td>\n",
       "      <td>-0.266324</td>\n",
       "      <td>-0.069995</td>\n",
       "      <td>NaN</td>\n",
       "    </tr>\n",
       "    <tr>\n",
       "      <th>15521</th>\n",
       "      <td>-0.382357</td>\n",
       "      <td>0.062969</td>\n",
       "      <td>-0.269269</td>\n",
       "      <td>0.111730</td>\n",
       "      <td>2.267119</td>\n",
       "      <td>-0.476151</td>\n",
       "      <td>NaN</td>\n",
       "    </tr>\n",
       "  </tbody>\n",
       "</table>\n",
       "<p>15522 rows × 7 columns</p>\n",
       "</div>"
      ],
      "text/plain": [
       "       number_of_dependents  total_charges  ...  number_of_referrals  churn_value\n",
       "0                 -0.382357      -0.343653  ...             0.336161          0.0\n",
       "1                 -0.382357      -0.370821  ...            -0.476151          0.0\n",
       "2                 -0.382357      -0.510427  ...            -0.476151          1.0\n",
       "3                 -0.382357       0.000385  ...            -0.069995          1.0\n",
       "4                 -0.382357      -0.517606  ...             0.742317          1.0\n",
       "...                     ...            ...  ...                  ...          ...\n",
       "15517             -0.382357      -0.058916  ...            -0.476151          NaN\n",
       "15518             -0.382357      -0.536448  ...            -0.476151          NaN\n",
       "15519              3.419656       0.075433  ...             3.179253          NaN\n",
       "15520             -0.382357      -0.280748  ...            -0.069995          NaN\n",
       "15521             -0.382357       0.062969  ...            -0.476151          NaN\n",
       "\n",
       "[15522 rows x 7 columns]"
      ]
     },
     "execution_count": 81,
     "metadata": {},
     "output_type": "execute_result"
    }
   ],
   "source": [
    "df_num_features"
   ]
  },
  {
   "cell_type": "code",
   "execution_count": 82,
   "metadata": {},
   "outputs": [
    {
     "data": {
      "text/plain": [
       "number_of_dependents          -0.000679\n",
       "total_charges                 -0.010025\n",
       "total_long_distance_charges   -0.003884\n",
       "total_revenue                 -0.009067\n",
       "tenure                        -0.017707\n",
       "number_of_referrals           -0.023341\n",
       "churn_value                    1.000000\n",
       "Name: churn_value, dtype: float64"
      ]
     },
     "execution_count": 82,
     "metadata": {},
     "output_type": "execute_result"
    }
   ],
   "source": [
    "correlation=df_num_features.corr()\n",
    "\n",
    "correlation['churn_value']"
   ]
  },
  {
   "cell_type": "code",
   "execution_count": 83,
   "metadata": {},
   "outputs": [],
   "source": [
    "df.to_csv('../Dataset/preprocessed_dataset.csv',index=False)"
   ]
  }
 ],
 "metadata": {
  "kernelspec": {
   "display_name": ".venv",
   "language": "python",
   "name": "python3"
  },
  "language_info": {
   "codemirror_mode": {
    "name": "ipython",
    "version": 3
   },
   "file_extension": ".py",
   "mimetype": "text/x-python",
   "name": "python",
   "nbconvert_exporter": "python",
   "pygments_lexer": "ipython3",
   "version": "3.11.9"
  }
 },
 "nbformat": 4,
 "nbformat_minor": 2
}
